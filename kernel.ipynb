{
  "cells": [
    {
      "metadata": {
        "_uuid": "8f2839f25d086af736a60e9eeb907d3b93b6e0e5",
        "_cell_guid": "b1076dfc-b9ad-4769-8c92-a6c4dae69d19",
        "trusted": true
      },
      "cell_type": "code",
      "source": "# For this Capstone Project we will be analyzing some 911 call data from Kaggle. \n\n# Just go along with this notebook and try to complete some tasks using my Python and Data Science skills!",
      "execution_count": null,
      "outputs": []
    },
    {
      "metadata": {
        "_cell_guid": "79c7e3d0-c299-4dcb-8224-4455121ee9b0",
        "_uuid": "d629ff2d2480ee46fbb7e2d37f6b5fab8052498a",
        "trusted": true
      },
      "cell_type": "code",
      "source": "# First of all, I will import the two libraries that will help me analyze the 911 data. \n# One of them is the poweful Pandas.🐼\n\nimport numpy as np\nimport pandas as pd",
      "execution_count": null,
      "outputs": []
    },
    {
      "metadata": {
        "trusted": true,
        "_uuid": "573b7c3c9b9e601cd75f296acb966fadf80bbf86"
      },
      "cell_type": "code",
      "source": "# Secondly, I will import the libraries for data visualization.\n# For a greater practicality, I will tap a code which will enable to watch the graphs after coding them.\n\nimport matplotlib.pyplot as plt\nimport seaborn as sns\n% matplotlib inline",
      "execution_count": null,
      "outputs": []
    },
    {
      "metadata": {
        "trusted": true,
        "_uuid": "25da1205250796ae2e664242d6737c260354ab4c"
      },
      "cell_type": "code",
      "source": "# Now I will read the file that I will analyze and visualize.\ndf = pd.read_csv('../input/911.csv')",
      "execution_count": null,
      "outputs": []
    },
    {
      "metadata": {
        "trusted": true,
        "_uuid": "491d3269ae8577eb48d8bd9e1eef0fd7b39b0245"
      },
      "cell_type": "code",
      "source": "# Let's extract some informations from this file.\n\ndf.info()   # We can see that there are more than 300,000 entries and 9 columns. \n            # There are numbers (floats and integers) and strings.",
      "execution_count": null,
      "outputs": []
    },
    {
      "metadata": {
        "trusted": true,
        "_uuid": "bf381f339871952b5395cb1eb2c93bc23dd2acbd"
      },
      "cell_type": "code",
      "source": "# Let's check the head!\n\ndf.head()   # The data contains the following fields:\n\n            # lat : String variable, Latitude\n            # lng: String variable, Longitude\n            # desc: String variable, Description of the Emergency Call\n            # zip: String variable, Zipcode\n            # title: String variable, Title\n            # timeStamp: String variable, YYYY-MM-DD HH:MM:SS\n            # twp: String variable, Township\n            # addr: String variable, Address\n            # e: String variable, Dummy variable (always 1)",
      "execution_count": null,
      "outputs": []
    },
    {
      "metadata": {
        "trusted": true,
        "_uuid": "33ad509c693db4133f3f1ca40056a87e676f56d2"
      },
      "cell_type": "code",
      "source": "# Now I will answer some basic questions!",
      "execution_count": null,
      "outputs": []
    },
    {
      "metadata": {
        "trusted": true,
        "_uuid": "749f523dee2f3c2e55f30eac2d808f4f2ec10bc1"
      },
      "cell_type": "code",
      "source": "# What're the top 5 zipcodes for 911 calls?\n\ndf.zip.value_counts().head(5)",
      "execution_count": null,
      "outputs": []
    },
    {
      "metadata": {
        "trusted": true,
        "_uuid": "e97e4d21a8154f61570e30bafa37d9f2b73802c9"
      },
      "cell_type": "code",
      "source": "# What're the top 5 townships (twp) for 911 calls?\n\ndf.twp.value_counts().head(5)",
      "execution_count": null,
      "outputs": []
    },
    {
      "metadata": {
        "trusted": true,
        "_uuid": "435840f806cb24458da5aaba59a77037ec3f1fb8"
      },
      "cell_type": "code",
      "source": "# How many unique title codes are there?\n\ndf.title.nunique()",
      "execution_count": null,
      "outputs": []
    },
    {
      "metadata": {
        "trusted": true,
        "_uuid": "5026b415b92b3a7e38308c40213c0ceff9bc7e3c"
      },
      "cell_type": "code",
      "source": "# To better understand the informations whitin the data and posteriorly to use for a better prediction, ...\n# ... is important create a new column from 'title' column with only the Reason.\n\ndf['Reason'] = df['title'].apply(lambda title: title.split(':')[0])",
      "execution_count": null,
      "outputs": []
    },
    {
      "metadata": {
        "trusted": true,
        "_uuid": "8f4d8cc1194faea178d9cafafad984506358be2e"
      },
      "cell_type": "code",
      "source": "# Lets check the result!\n\ndf.head(3)",
      "execution_count": null,
      "outputs": []
    },
    {
      "metadata": {
        "trusted": true,
        "_uuid": "d1132328f75fe854266915ed8d3469691fdbb11a"
      },
      "cell_type": "code",
      "source": "# What's the most common Reason for a 911 call based in this new column?\n\ndf.Reason.value_counts()",
      "execution_count": null,
      "outputs": []
    },
    {
      "metadata": {
        "trusted": true,
        "_uuid": "6e28621780c39f347ef67c3f67302d012c126581"
      },
      "cell_type": "code",
      "source": "# Let's do the first graph visualization.\n# \"911 calls X Reason\"\"\n\nsns.countplot(x='Reason', data=df)",
      "execution_count": null,
      "outputs": []
    },
    {
      "metadata": {
        "trusted": true,
        "_uuid": "c7f5c4e4489b50f9642a8d2dc477b03b235c03e5"
      },
      "cell_type": "code",
      "source": "# What's the data type of the objects in the 'timeStamp' column?\n\ntype(df['timeStamp'].iloc[0])",
      "execution_count": null,
      "outputs": []
    },
    {
      "metadata": {
        "trusted": true,
        "_uuid": "0168f6cd7ec20f1ee4d61b0b34203628787cedb4"
      },
      "cell_type": "code",
      "source": "# The timestamps are still strings. \n# I have to convert the column to DateTime objects with the purpose to better use in data analize.\n\ndf['timeStamp'] = pd.to_datetime(df['timeStamp'])",
      "execution_count": null,
      "outputs": []
    },
    {
      "metadata": {
        "trusted": true,
        "_uuid": "219277bd4264c79fbe24affeff1e8377b057e18f"
      },
      "cell_type": "code",
      "source": "# One more time, to good understand the informations and get a better prediction, ...\n# ... is important create new columns, from 'timeStamp' column, called 'Hour', 'Month' and 'Day of Week'.\n\ndf['Hour'] = df['timeStamp'].apply(lambda time: time.hour)\ndf['Month'] = df['timeStamp'].apply(lambda time: time.month)\ndf['Day of Week'] = df['timeStamp'].apply(lambda time: time.dayofweek)\n\n# Let's see the result.\n\ndf.head(3) ",
      "execution_count": null,
      "outputs": []
    },
    {
      "metadata": {
        "trusted": true,
        "_uuid": "ed1232d0328c41d59fbedc4dd23559679879159f"
      },
      "cell_type": "code",
      "source": "# The 'Day of Week' column has only number instead of strings, such as 'Mon', 'Sun', 'Thu' and so on.\n# I will solve this problem.\n\ndmap = {0:'Mon', 1:'Tue', 2:'Wed', 3:'Thu', 4:'Fri', 5:'Sat', 6:'Sun'}\ndf['Day of Week'] = df['Day of Week'].map(dmap)\n\n# Let's check if the problem was solved.\n\ndf.head(3) # Now we can see that the values in the 'Day of Week'changed from number to days of week.",
      "execution_count": null,
      "outputs": []
    },
    {
      "metadata": {
        "trusted": true,
        "_uuid": "f6b2c7738cf48306f6e4b3e6aa2640e0884e52fe"
      },
      "cell_type": "code",
      "source": "# Now I can use these new columns to do a new graph using 'Day of Week' column with the hue based in the Reason column.\n\nsns.countplot(x='Day of Week',data=df,hue='Reason',palette='viridis')\n\n# To relocate the legend\n\nplt.legend(bbox_to_anchor=(1.05, 1), loc=2, borderaxespad=0.)",
      "execution_count": null,
      "outputs": []
    },
    {
      "metadata": {
        "trusted": true,
        "_uuid": "62eacdc066467908ab0c5d0069651cfad546cb5f"
      },
      "cell_type": "code",
      "source": "# Now I will do the same thing for 'Month'\n\nsns.countplot(x='Month',data=df,hue='Reason',palette='viridis')\n\n# To relocate the legend\n\nplt.legend(bbox_to_anchor=(1.05, 1), loc=2, borderaxespad=0.) \n\n# We can notice that is missing some months: 9,10, and 11 are not there.",
      "execution_count": null,
      "outputs": []
    },
    {
      "metadata": {
        "trusted": true,
        "_uuid": "2078cc8a3dccfac3190c7b4fa7ce50a63db1c5ba"
      },
      "cell_type": "code",
      "source": "# let's see if we can maybe fill in this information by plotting the information in another way.\n# I will create a gropuby object called 'byMonth', where I group the DataFrame by the month column and use the count() method for aggregation.\n\nbyMonth = df.groupby('Month').count()\n\n# Let's chck the result!\n\nbyMonth.head()",
      "execution_count": null,
      "outputs": []
    },
    {
      "metadata": {
        "trusted": true,
        "_uuid": "c68633e7e1a7f2935b733a32596aa835619e167e"
      },
      "cell_type": "code",
      "source": "# Now I will create a simple plot of the dataframe indicating the count of calls per month.\n# Could be any column\n\nbyMonth['twp'].plot() #That's it. I got it!",
      "execution_count": null,
      "outputs": []
    },
    {
      "metadata": {
        "trusted": true,
        "_uuid": "dc87572fc0b24adaa28c65f2fc3c7c57b31c696e"
      },
      "cell_type": "code",
      "source": "# I will see if I can use seaborn's lmplot() to create a linear fit on the number of calls per month. \n# I can't forget that I need to reset the index to a column.\n\n\nsns.lmplot(x='Month',y='twp',data=byMonth.reset_index())",
      "execution_count": null,
      "outputs": []
    },
    {
      "metadata": {
        "trusted": true,
        "_uuid": "53f4d9c091e8ec376e25bd46234540ec4e03cee1"
      },
      "cell_type": "code",
      "source": "# I will create a new column called 'Date' that contains the date from the timeStamp column.\n# As I sad before, these news columns helps better unsderstand the informations.\n\ndf['Date']=df['timeStamp'].apply(lambda t: t.date())\n\n# Let's check!\n\ndf.head(3)",
      "execution_count": null,
      "outputs": []
    },
    {
      "metadata": {
        "trusted": true,
        "_uuid": "98e41bb48bbff75a43716f1f1b8c3ee49799b70f"
      },
      "cell_type": "code",
      "source": "# Now groupby this Date column with the count() aggregate and create a plot of counts of 911 calls.\n\nplt.figure(figsize=(14,6)) # To better distinguish the legends.\ndf.groupby('Date').count()['twp'].plot()\nplt.tight_layout()",
      "execution_count": null,
      "outputs": []
    },
    {
      "metadata": {
        "trusted": true,
        "_uuid": "e06bca86fd4412975562e015f59443e11b6100e4"
      },
      "cell_type": "code",
      "source": "# Now I will recreate this plot, but creating 3 separate plots with each plot representing a Reason for the 911 call.\n\nplt.figure(figsize=(14,6))\ndf[df['Reason']=='Traffic'].groupby('Date').count()['twp'].plot()\nplt.title('Traffic')\nplt.tight_layout()",
      "execution_count": null,
      "outputs": []
    },
    {
      "metadata": {
        "trusted": true,
        "_uuid": "92903459dbfce37651ad60790cc03c2a215ea911"
      },
      "cell_type": "code",
      "source": "plt.figure(figsize=(14,6))\ndf[df['Reason']=='Fire'].groupby('Date').count()['twp'].plot()\nplt.title('Fire')\nplt.tight_layout()",
      "execution_count": null,
      "outputs": []
    },
    {
      "metadata": {
        "trusted": true,
        "_uuid": "ebf79f40d486ebeb00c224b22a28d082a6ca973c"
      },
      "cell_type": "code",
      "source": "plt.figure(figsize=(14,6))\ndf[df['Reason']=='EMS'].groupby('Date').count()['twp'].plot()\nplt.title('EMS')\nplt.tight_layout()\n\n# we can conclude that the 'Fire' has the lowest rate of call and 'EMS' has the uppest.  ",
      "execution_count": null,
      "outputs": []
    },
    {
      "metadata": {
        "trusted": true,
        "_uuid": "23f6407ffe69f3303afe972933fc955f845e31b5"
      },
      "cell_type": "code",
      "source": "# Now let's move on to creating heatmaps with seaborn and our data. \n# We'll first need to restructure the dataframe, so that the columns become the Hours and the Index becomes the Day of the Week.\n\ndayHour = df.groupby(by=['Day of Week','Hour']).count()['Reason'].unstack()\n\n# Let'see...\ndayHour.head()",
      "execution_count": null,
      "outputs": []
    },
    {
      "metadata": {
        "trusted": true,
        "_uuid": "3a4ea7a068e445e146f502246228d28a58db4dce"
      },
      "cell_type": "code",
      "source": "# Now I will create a HeatMap using this new DataFrame.\n\nplt.figure(figsize=(12,6))\nsns.heatmap(dayHour,cmap='viridis')\n\n# We can notice that the higher volume of call happens Wednesday and Friday between 15h and 17h.",
      "execution_count": null,
      "outputs": []
    },
    {
      "metadata": {
        "trusted": true,
        "_uuid": "23d906d559b5151317d93209ff36acda35458e3b"
      },
      "cell_type": "code",
      "source": "# Now I will create a clustermap using this DataFrame.\n\n\nsns.clustermap(dayHour,cmap='viridis')\n\n# We can notice better is this clustermap graph that the higher volume of call happens only on Friday between 15h and 17h.",
      "execution_count": null,
      "outputs": []
    },
    {
      "metadata": {
        "trusted": true,
        "_uuid": "6209fe962ee260c8d9308e4e6f6398e116ae22b1"
      },
      "cell_type": "code",
      "source": "# Now I will repeat these same plots and operations for Month as the column.\n# I'm trying to get more and better informations and visualizations from data.\n\ndayMonth = df.groupby(by=['Day of Week','Month']).count()['Reason'].unstack()\n\n# Let's check!\n\ndayMonth.head()",
      "execution_count": null,
      "outputs": []
    },
    {
      "metadata": {
        "trusted": true,
        "_uuid": "3cb52edea0c9d95f20662f3bcbc9640676dcc98b"
      },
      "cell_type": "code",
      "source": "# Heatmap\n\nplt.figure(figsize=(12,6))\nsns.heatmap(dayMonth,cmap='viridis')\n\n# We can notice that 'Friday' appears again, but, joining the informations from the last heatmap, the higher calls happens in March, on friday and between 15h/17h.",
      "execution_count": null,
      "outputs": []
    },
    {
      "metadata": {
        "trusted": true,
        "_uuid": "de6a0fa3e4e7ef928ed3ea7bee6f2c71ff2482b3"
      },
      "cell_type": "code",
      "source": "# Clustermap\n\nsns.clustermap(dayMonth,cmap='viridis')\n\n# This map reinforce the last conclusion.",
      "execution_count": null,
      "outputs": []
    },
    {
      "metadata": {
        "trusted": true,
        "_uuid": "4ef6321ee07ab2cdc26f2de1a59c4c89c98dcab7"
      },
      "cell_type": "code",
      "source": "# That's it!\n# See you in the next Project!! 😀😎🐍",
      "execution_count": null,
      "outputs": []
    }
  ],
  "metadata": {
    "kernelspec": {
      "display_name": "Python 3",
      "language": "python",
      "name": "python3"
    },
    "language_info": {
      "name": "python",
      "version": "3.6.6",
      "mimetype": "text/x-python",
      "codemirror_mode": {
        "name": "ipython",
        "version": 3
      },
      "pygments_lexer": "ipython3",
      "nbconvert_exporter": "python",
      "file_extension": ".py"
    }
  },
  "nbformat": 4,
  "nbformat_minor": 1
}